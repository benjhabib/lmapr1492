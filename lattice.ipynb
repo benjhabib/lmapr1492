{
 "cells": [
  {
   "cell_type": "code",
   "execution_count": 43,
   "metadata": {},
   "outputs": [],
   "source": [
    "from pymatgen import Structure\n",
    "from pymatgen import symmetry\n",
    "from pymatgen.ext.matproj import MPRester\n",
    "from pymatgen.io.cif import CifWriter\n",
    "from pymatgen.symmetry.analyzer import SpacegroupAnalyzer\n",
    "with MPRester(\"wxZbXC20FoNcfWQR\") as m:\n",
    "    structure = m.get_structure_by_material_id(\"mp-9365\", False)\n",
    "    CifWriter(struct=structure, symprec=True).write_file(\"RbTbS2.cif\")\n"
   ]
  },
  {
   "cell_type": "code",
   "execution_count": 44,
   "metadata": {},
   "outputs": [
    {
     "data": {
      "text/plain": [
       "Structure Summary\n",
       "Lattice\n",
       "    abc : 4.079999999539055 4.079999999539056 7.98024697616717\n",
       " angles : 75.18901089925527 75.18901089925527 59.99999999999999\n",
       " volume : 109.91875986806177\n",
       "      A : -2.039999999769528 -3.53338364704132 0.0\n",
       "      B : -4.079999999539056 0.0 0.0\n",
       "      C : -2.039999999769528 -1.1777945490137733 -7.624666668247146\n",
       "PeriodicSite: S (-6.1200, -3.5334, -5.2953) [0.7685, 0.7685, 0.6945]\n",
       "PeriodicSite: S (-2.0400, -1.1778, -2.3293) [0.2315, 0.2315, 0.3055]\n",
       "PeriodicSite: Rb (-6.1200, -3.5334, -0.0000) [1.0000, 1.0000, 0.0000]\n",
       "PeriodicSite: Tb (-4.0800, -2.3556, -3.8123) [0.5000, 0.5000, 0.5000]"
      ]
     },
     "execution_count": 44,
     "metadata": {},
     "output_type": "execute_result"
    }
   ],
   "source": [
    "    A=SpacegroupAnalyzer(structure)\n",
    "    prim=A.find_primitive()\n",
    "    prim"
   ]
  },
  {
   "cell_type": "code",
   "execution_count": 46,
   "metadata": {},
   "outputs": [
    {
     "data": {
      "text/plain": [
       "'trigonal'"
      ]
     },
     "execution_count": 46,
     "metadata": {},
     "output_type": "execute_result"
    }
   ],
   "source": [
    "    cryst=A.get_crystal_system()\n",
    "    cryst"
   ]
  },
  {
   "cell_type": "code",
   "execution_count": 49,
   "metadata": {},
   "outputs": [
    {
     "data": {
      "text/plain": [
       "'rhombohedral'"
      ]
     },
     "execution_count": 49,
     "metadata": {},
     "output_type": "execute_result"
    }
   ],
   "source": [
    "latt=A.get_lattice_type()\n",
    "latt"
   ]
  },
  {
   "cell_type": "code",
   "execution_count": 51,
   "metadata": {},
   "outputs": [
    {
     "data": {
      "text/plain": [
       "'-3m'"
      ]
     },
     "execution_count": 51,
     "metadata": {},
     "output_type": "execute_result"
    }
   ],
   "source": [
    "ptgroup=A.get_point_group_symbol()\n",
    "ptgroup"
   ]
  },
  {
   "cell_type": "code",
   "execution_count": null,
   "metadata": {},
   "outputs": [],
   "source": []
  }
 ],
 "metadata": {
  "kernelspec": {
   "display_name": "Python 3",
   "language": "python",
   "name": "python3"
  },
  "language_info": {
   "codemirror_mode": {
    "name": "ipython",
    "version": 3
   },
   "file_extension": ".py",
   "mimetype": "text/x-python",
   "name": "python",
   "nbconvert_exporter": "python",
   "pygments_lexer": "ipython3",
   "version": "3.6.8"
  }
 },
 "nbformat": 4,
 "nbformat_minor": 2
}
