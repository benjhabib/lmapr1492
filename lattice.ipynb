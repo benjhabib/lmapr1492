{
 "cells": [
  {
   "cell_type": "code",
   "execution_count": 87,
   "metadata": {},
   "outputs": [],
   "source": [
    "from pymatgen import Structure\n",
    "from pymatgen import symmetry\n",
    "from pymatgen.ext.matproj import MPRester\n",
    "from pymatgen.io.cif import CifWriter\n",
    "from pymatgen.symmetry.analyzer import SpacegroupAnalyzer\n",
    "with MPRester(\"wxZbXC20FoNcfWQR\") as m:\n",
    "    structure = m.get_structure_by_material_id(\"mp-9365\", False)\n",
    "    CifWriter(struct=structure, symprec=True).write_file(\"RbTbS2.cif\")\n"
   ]
  },
  {
   "cell_type": "code",
   "execution_count": 88,
   "metadata": {},
   "outputs": [
    {
     "name": "stdout",
     "output_type": "stream",
     "text": [
      "Réseau direct:\n"
     ]
    },
    {
     "data": {
      "text/plain": [
       "Structure Summary\n",
       "Lattice\n",
       "    abc : 7.98024697616717 7.98024697616717 7.98024697616717\n",
       " angles : 29.62197820148947 29.62197820148947 29.62197820148948\n",
       " volume : 109.91875986806173\n",
       "      A : 7.715098301484278 -2.039999999769528 0.0\n",
       "      B : 7.715098301484278 2.039999999769528 0.0\n",
       "      C : 7.17568845387948 0.0 3.491967498916045\n",
       "PeriodicSite: Rb (0.0000, 0.0000, 0.0000) [0.0000, 0.0000, 0.0000]\n",
       "PeriodicSite: Tb (11.3029, -0.0000, 1.7460) [0.5000, 0.5000, 0.5000]\n",
       "PeriodicSite: S (17.3726, 0.0000, 2.6836) [0.7685, 0.7685, 0.7685]\n",
       "PeriodicSite: S (5.2333, 0.0000, 0.8084) [0.2315, 0.2315, 0.2315]"
      ]
     },
     "execution_count": 88,
     "metadata": {},
     "output_type": "execute_result"
    }
   ],
   "source": [
    "    A=SpacegroupAnalyzer(structure)\n",
    "    new_s=A.get_primitive_standard_structure()\n",
    "    print(\"Réseau direct:\")\n",
    "    new_s"
   ]
  },
  {
   "cell_type": "code",
   "execution_count": 89,
   "metadata": {},
   "outputs": [
    {
     "name": "stdout",
     "output_type": "stream",
     "text": [
      "Vecteurs de base du réseau direct:\n"
     ]
    },
    {
     "data": {
      "text/plain": [
       "(7.98024697616717, 7.98024697616717, 7.98024697616717)"
      ]
     },
     "execution_count": 89,
     "metadata": {},
     "output_type": "execute_result"
    }
   ],
   "source": [
    "print(\"Vecteurs de base du réseau direct:\")\n",
    "new_s.lattice.abc"
   ]
  },
  {
   "cell_type": "code",
   "execution_count": 90,
   "metadata": {},
   "outputs": [
    {
     "name": "stdout",
     "output_type": "stream",
     "text": [
      "Réseau réciproque:\n"
     ]
    },
    {
     "data": {
      "text/plain": [
       "Lattice\n",
       "    abc : 0.28637150841478726 0.2863715084147873 0.2863715084147873\n",
       " angles : 117.7129359104894 117.7129359104894 117.71293591048938\n",
       " volume : 0.009097628113711669\n",
       "      A : 0.0648079882409025 -0.24509803924337661 -0.1331747598119847\n",
       "      B : 0.06480798824090252 0.24509803924337667 -0.1331747598119847\n",
       "      C : 0.0 0.0 0.2863715084147873"
      ]
     },
     "execution_count": 90,
     "metadata": {},
     "output_type": "execute_result"
    }
   ],
   "source": [
    "print(\"Réseau réciproque:\")\n",
    "rec=new_s.lattice.reciprocal_lattice_crystallographic\n",
    "rec"
   ]
  },
  {
   "cell_type": "code",
   "execution_count": 91,
   "metadata": {},
   "outputs": [
    {
     "name": "stdout",
     "output_type": "stream",
     "text": [
      "Vecteurs de base du réseau réciproque:\n"
     ]
    },
    {
     "data": {
      "text/plain": [
       "(0.28637150841478726, 0.2863715084147873, 0.2863715084147873)"
      ]
     },
     "execution_count": 91,
     "metadata": {},
     "output_type": "execute_result"
    }
   ],
   "source": [
    "print(\"Vecteurs de base du réseau réciproque:\")\n",
    "rec.abc"
   ]
  },
  {
   "cell_type": "code",
   "execution_count": 92,
   "metadata": {},
   "outputs": [
    {
     "name": "stdout",
     "output_type": "stream",
     "text": [
      "Système cristallin:\n"
     ]
    },
    {
     "data": {
      "text/plain": [
       "'trigonal'"
      ]
     },
     "execution_count": 92,
     "metadata": {},
     "output_type": "execute_result"
    }
   ],
   "source": [
    "    cryst=A.get_crystal_system()\n",
    "    print(\"Système cristallin:\")\n",
    "    cryst    "
   ]
  },
  {
   "cell_type": "code",
   "execution_count": 93,
   "metadata": {},
   "outputs": [
    {
     "name": "stdout",
     "output_type": "stream",
     "text": [
      "type de maille:\n"
     ]
    },
    {
     "data": {
      "text/plain": [
       "'rhombohedral'"
      ]
     },
     "execution_count": 93,
     "metadata": {},
     "output_type": "execute_result"
    }
   ],
   "source": [
    "latt=A.get_lattice_type()\n",
    "print(\"type de maille:\")\n",
    "latt"
   ]
  },
  {
   "cell_type": "code",
   "execution_count": 94,
   "metadata": {},
   "outputs": [
    {
     "name": "stdout",
     "output_type": "stream",
     "text": [
      "groupe ponctuel:\n"
     ]
    },
    {
     "data": {
      "text/plain": [
       "'-3m'"
      ]
     },
     "execution_count": 94,
     "metadata": {},
     "output_type": "execute_result"
    }
   ],
   "source": [
    "ptgroup=A.get_point_group_symbol()\n",
    "print(\"groupe ponctuel:\")\n",
    "ptgroup"
   ]
  },
  {
   "cell_type": "code",
   "execution_count": null,
   "metadata": {},
   "outputs": [],
   "source": []
  }
 ],
 "metadata": {
  "kernelspec": {
   "display_name": "Python 3",
   "language": "python",
   "name": "python3"
  },
  "language_info": {
   "codemirror_mode": {
    "name": "ipython",
    "version": 3
   },
   "file_extension": ".py",
   "mimetype": "text/x-python",
   "name": "python",
   "nbconvert_exporter": "python",
   "pygments_lexer": "ipython3",
   "version": "3.6.8"
  }
 },
 "nbformat": 4,
 "nbformat_minor": 2
}
