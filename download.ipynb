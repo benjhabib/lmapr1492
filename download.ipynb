{
 "cells": [
  {
   "cell_type": "code",
   "execution_count": 3,
   "metadata": {},
   "outputs": [],
   "source": [
    "from pymatgen import Structure\n",
    "from pymatgen import symmetry\n",
    "from pymatgen.ext.matproj import MPRester\n",
    "from pymatgen.io.cif import CifWriter\n",
    "with MPRester(\"wxZbXC20FoNcfWQR\") as m:\n",
    "    structure = m.get_structure_by_material_id(\"mp-9365\", False)\n",
    "    CifWriter(struct=structure, symprec=True).write_file(\"RbTbS2.cif\")\n"
   ]
  },
  {
   "cell_type": "code",
   "execution_count": 4,
   "metadata": {},
   "outputs": [
    {
     "data": {
      "text/plain": [
       "Structure Summary\n",
       "Lattice\n",
       "    abc : 7.9802469791484345 7.980246979097448 7.98024697\n",
       " angles : 29.621978195754146 29.621978196397972 29.621978202147176\n",
       " volume : 109.91875984112082\n",
       "      A : 3.94443946 0.0 6.93727174\n",
       "      B : 1.83432975 3.4919675 6.93727174\n",
       "      C : 0.0 0.0 7.98024697\n",
       "PeriodicSite: S (4.4410, 2.6836, 16.7954) [0.7685, 0.7685, 0.7685]\n",
       "PeriodicSite: S (1.3378, 0.8084, 5.0594) [0.2315, 0.2315, 0.2315]\n",
       "PeriodicSite: Rb (0.0000, 0.0000, 0.0000) [0.0000, 0.0000, 0.0000]\n",
       "PeriodicSite: Tb (2.8894, 1.7460, 10.9274) [0.5000, 0.5000, 0.5000]"
      ]
     },
     "execution_count": 4,
     "metadata": {},
     "output_type": "execute_result"
    }
   ],
   "source": [
    "structure"
   ]
  },
  {
   "cell_type": "code",
   "execution_count": null,
   "metadata": {},
   "outputs": [],
   "source": []
  },
  {
   "cell_type": "code",
   "execution_count": null,
   "metadata": {},
   "outputs": [],
   "source": []
  }
 ],
 "metadata": {
  "kernelspec": {
   "display_name": "Python 3",
   "language": "python",
   "name": "python3"
  },
  "language_info": {
   "codemirror_mode": {
    "name": "ipython",
    "version": 3
   },
   "file_extension": ".py",
   "mimetype": "text/x-python",
   "name": "python",
   "nbconvert_exporter": "python",
   "pygments_lexer": "ipython3",
   "version": "3.6.8"
  }
 },
 "nbformat": 4,
 "nbformat_minor": 2
}
