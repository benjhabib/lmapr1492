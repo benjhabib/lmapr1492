{
 "cells": [
  {
   "cell_type": "code",
   "execution_count": 29,
   "metadata": {},
   "outputs": [],
   "source": [
    "from pymatgen import Structure\n",
    "from pymatgen import symmetry\n",
    "from pymatgen.ext.matproj import MPRester\n",
    "from pymatgen.io.cif import CifWriter\n",
    "from pymatgen.symmetry.analyzer import SpacegroupAnalyzer\n",
    "from pymatgen.core.operations import SymmOp\n",
    "from IPython.display import Image\n",
    "with MPRester(\"wxZbXC20FoNcfWQR\") as m:\n",
    "    structure = m.get_structure_by_material_id(\"mp-9365\", False)\n",
    "    CifWriter(struct=structure, symprec=True).write_file(\"RbTbS2.cif\")\n",
    "    A=SpacegroupAnalyzer(structure)"
   ]
  },
  {
   "cell_type": "code",
   "execution_count": 42,
   "metadata": {},
   "outputs": [
    {
     "name": "stdout",
     "output_type": "stream",
     "text": [
      "2ème élément de symétrie (Ci:0 0 0):\n",
      "Rot:\n",
      "[[-1.  0.  0.]\n",
      " [ 0. -1.  0.]\n",
      " [ 0.  0. -1.]]\n",
      "tau\n",
      "[0. 0. 0.]\n",
      "Effet sur Tb1 #2:\n",
      "[ 0.   0.  -0.5]\n"
     ]
    }
   ],
   "source": [
    "    print(\"2ème élément de symétrie (Ci:0 0 0):\")\n",
    "    Op1=SymmOp.from_xyz_string(\"-x, -y, -z\")\n",
    "    print(Op1)\n",
    "    print(\"Effet sur Tb1 #2:\")\n",
    "    Eff1=Op1.operate((0,0,1/2))\n",
    "    print(Eff1)\n",
    "    "
   ]
  },
  {
   "cell_type": "markdown",
   "metadata": {},
   "source": [
    "![title](img/sym2.PNG)"
   ]
  },
  {
   "cell_type": "code",
   "execution_count": 43,
   "metadata": {},
   "outputs": [
    {
     "name": "stdout",
     "output_type": "stream",
     "text": [
      "9ème élément de symétrie (C2 axis):\n",
      "Rot:\n",
      "[[ 1. -1.  0.]\n",
      " [ 0. -1.  0.]\n",
      " [ 0.  0. -1.]]\n",
      "tau\n",
      "[0. 0. 0.]\n",
      "Effet sur S2 #3:\n",
      "[ 0.        0.       -0.230833]\n"
     ]
    }
   ],
   "source": [
    "    print(\"9ème élément de symétrie (C2 axis):\")\n",
    "    Op2=SymmOp.from_xyz_string(\"x-y, -y, -z\")\n",
    "    print(Op2)\n",
    "    print(\"Effet sur S2 #3:\")\n",
    "    Eff2=Op2.operate((0,0,0.230833)) \n",
    "    print(Eff2)"
   ]
  },
  {
   "cell_type": "markdown",
   "metadata": {},
   "source": [
    "![title](img/sym9.PNG)"
   ]
  },
  {
   "cell_type": "code",
   "execution_count": 44,
   "metadata": {},
   "outputs": [
    {
     "name": "stdout",
     "output_type": "stream",
     "text": [
      "13ème élément de symétrie:\n",
      "Rot:\n",
      "[[1. 0. 0.]\n",
      " [0. 1. 0.]\n",
      " [0. 0. 1.]]\n",
      "tau\n",
      "[0.66666667 0.33333333 0.33333333]\n",
      "Effet sur Rb0 #1:\n",
      "[0.66666667 0.33333333 0.33333333]\n"
     ]
    }
   ],
   "source": [
    "    print(\"13ème élément de symétrie:\")\n",
    "    Op3=SymmOp.from_xyz_string(\"x+2/3, y+1/3, z+1/3\")\n",
    "    print(Op3)\n",
    "    print(\"Effet sur Rb0 #1:\")\n",
    "    Eff3=Op3.operate((0,0,0)) \n",
    "    print(Eff3)"
   ]
  },
  {
   "cell_type": "markdown",
   "metadata": {},
   "source": [
    "![title](img/sym13.PNG)"
   ]
  },
  {
   "cell_type": "code",
   "execution_count": null,
   "metadata": {},
   "outputs": [],
   "source": []
  }
 ],
 "metadata": {
  "kernelspec": {
   "display_name": "Python 3",
   "language": "python",
   "name": "python3"
  },
  "language_info": {
   "codemirror_mode": {
    "name": "ipython",
    "version": 3
   },
   "file_extension": ".py",
   "mimetype": "text/x-python",
   "name": "python",
   "nbconvert_exporter": "python",
   "pygments_lexer": "ipython3",
   "version": "3.6.8"
  }
 },
 "nbformat": 4,
 "nbformat_minor": 2
}
