{
 "cells": [
  {
   "cell_type": "code",
   "execution_count": 8,
   "metadata": {},
   "outputs": [],
   "source": [
    "from pymatgen import Structure\n",
    "from matplotlib import pyplot as plt\n",
    "from pymatgen import symmetry\n",
    "from pymatgen.ext.matproj import MPRester\n",
    "from pymatgen.io.cif import CifWriter\n",
    "from pymatgen.symmetry.analyzer import SpacegroupAnalyzer\n",
    "from pymatgen.core.operations import SymmOp\n",
    "from pymatgen.analysis.diffraction import xrd\n",
    "from pymatgen.analysis.diffraction.core import AbstractDiffractionPatternCalculator as adpc\n",
    "import numpy as np\n",
    "with MPRester(\"wxZbXC20FoNcfWQR\") as m:\n",
    "    structure = m.get_structure_by_material_id(\"mp-9365\", False)    \n",
    "    CifWriter(struct=structure, symprec=True).write_file(\"RbTbS2.cif\")\n",
    "    Cal=xrd.XRDCalculator()"
   ]
  },
  {
   "cell_type": "code",
   "execution_count": 9,
   "metadata": {},
   "outputs": [],
   "source": [
    "    Patt=Cal.get_pattern(structure,two_theta_range=(0, 90))"
   ]
  },
  {
   "cell_type": "code",
   "execution_count": 10,
   "metadata": {},
   "outputs": [
    {
     "name": "stdout",
     "output_type": "stream",
     "text": [
      "Pattern de diffraction:\n",
      "DiffractionPattern\n",
      "$2\\Theta$: [11.6060338  23.33330903 25.50846961 26.4007004  29.72155215 32.00529153\n",
      " 35.31496639 37.48839097 40.58865799 44.40757136 46.05764578 47.34234091\n",
      " 47.71141844 50.75805219 50.95657482 51.90975747 52.40423929 54.35049452\n",
      " 55.77949285 57.96975624 58.60975833 59.47881693 60.73486377 61.7200327\n",
      " 62.64344506 66.92120864 67.21679682 69.86157372 70.65338974 71.06672823\n",
      " 71.14221584 72.71016302 73.93309863 74.6956385  75.62591111 76.3939662\n",
      " 77.15953723 78.27398223 79.15454463 79.98496039 81.77037696 82.95235198\n",
      " 83.8935029  85.142124   86.4822977  86.63654513 87.84514399]\n",
      "Intensity: [2.87463565e+01 2.38058822e+01 6.02772940e+00 4.54792293e+01\n",
      " 1.00000000e+02 9.95886829e-01 4.34934189e-02 8.09699390e+00\n",
      " 3.67558939e+01 3.36063280e+01 5.64884081e+00 1.41943958e+01\n",
      " 6.25634714e+00 1.85832927e+01 4.14617686e+00 9.73034208e-01\n",
      " 7.40485773e+00 1.74919815e+01 2.82641442e-01 1.33694939e-01\n",
      " 2.37105153e-02 2.05238357e+00 8.24582535e-01 1.04801497e+01\n",
      " 7.80977197e+00 5.06523699e+00 1.33964915e+01 1.58063740e+00\n",
      " 7.74169366e-01 6.01585256e+00 4.50245806e+00 1.46434124e+01\n",
      " 2.44811844e-01 1.91552629e+00 2.11413222e-02 1.04520961e-02\n",
      " 1.91756803e+00 2.37979407e+00 1.03170959e+01 3.91237187e+00\n",
      " 5.64118335e+00 1.03068155e+00 5.51241643e+00 8.27081900e-01\n",
      " 4.15224908e+00 1.85732019e+00 2.66400649e+00]\n"
     ]
    }
   ],
   "source": [
    "    print(\"Pattern de diffraction:\")\n",
    "    print(Patt)"
   ]
  },
  {
   "cell_type": "code",
   "execution_count": 5,
   "metadata": {},
   "outputs": [
    {
     "name": "stdout",
     "output_type": "stream",
     "text": [
      "Graphe correspondant:\n"
     ]
    },
    {
     "data": {
      "text/plain": [
       "<StemContainer object of 3 artists>"
      ]
     },
     "execution_count": 5,
     "metadata": {},
     "output_type": "execute_result"
    },
    {
     "data": {
      "image/png": "[encoded data removed]",
      "text/plain": [
       "<Figure size 432x288 with 1 Axes>"
      ]
     },
     "metadata": {
      "needs_background": "light"
     },
     "output_type": "display_data"
    }
   ],
   "source": [
    "print(\"Graphe correspondant:\")\n",
    "plt.stem(Patt.x,Patt.y, use_line_collection=True)"
   ]
  },
  {
   "cell_type": "code",
   "execution_count": 14,
   "metadata": {},
   "outputs": [
    {
     "name": "stdout",
     "output_type": "stream",
     "text": [
      "Les 3 premiers pics (par intensité) se trouvent à theta=\n",
      "[29.72155215 26.4007004  40.58865799]\n",
      "\n",
      "Et les indices hkl associés sont:\n",
      "[{'hkl': (2, 1, 1), 'multiplicity': 6}\n",
      " {'hkl': (1, 1, 0), 'multiplicity': 6}\n",
      " {'hkl': (3, 3, 2), 'multiplicity': 6}]\n",
      "\n",
      "\n",
      "Par angles, les 3 premiers pics à apparaitre sont:\n",
      "[11.6060338  23.33330903 26.4007004 ]\n",
      "\n",
      "Et les indices hkl associés sont:\n",
      "[[{'hkl': (1, 1, 1), 'multiplicity': 2}]\n",
      " [{'hkl': (2, 2, 2), 'multiplicity': 2}]\n",
      " [{'hkl': (1, 1, 0), 'multiplicity': 6}]]\n"
     ]
    }
   ],
   "source": [
    "sorty=np.sort(Patt.y)\n",
    "k=np.size(Patt.x)\n",
    "sortx=np.zeros(k)\n",
    "hkls=Patt.hkls.copy()\n",
    "for i in range(0,k):\n",
    "    index=np.where(Patt.y == sorty[i])\n",
    "    sortx[i]=Patt.x[index]\n",
    "    hkls[i]=Patt.hkls[index[0][0]][0]\n",
    "print(\"Les 3 premiers pics (par intensité) se trouvent à theta=\")\n",
    "pics=np.array([sortx[k-1],sortx[k-2],sortx[k-3]])\n",
    "print(pics)\n",
    "print(\"\")\n",
    "print(\"Et les indices hkl associés sont:\")\n",
    "picshkl=np.array([hkls[k-1],hkls[k-2],hkls[k-3]])\n",
    "print(picshkl)\n",
    "print(\"\")\n",
    "print(\"\")\n",
    "print(\"Par angles, les 3 premiers pics à apparaitre sont:\")\n",
    "\n",
    "pics2=np.array([Patt.x[0],Patt.x[1],Patt.x[3]])\n",
    "print(pics2)\n",
    "print(\"\")\n",
    "print(\"Et les indices hkl associés sont:\")\n",
    "picshkl2=np.array([Patt.hkls[0],Patt.hkls[1],Patt.hkls[3]])\n",
    "print(picshkl2)"
   ]
  },
  {
   "cell_type": "code",
   "execution_count": null,
   "metadata": {},
   "outputs": [],
   "source": []
  }
 ],
 "metadata": {
  "kernelspec": {
   "display_name": "Python 3",
   "language": "python",
   "name": "python3"
  },
  "language_info": {
   "codemirror_mode": {
    "name": "ipython",
    "version": 3
   },
   "file_extension": ".py",
   "mimetype": "text/x-python",
   "name": "python",
   "nbconvert_exporter": "python",
   "pygments_lexer": "ipython3",
   "version": "3.6.8"
  }
 },
 "nbformat": 4,
 "nbformat_minor": 2
}
